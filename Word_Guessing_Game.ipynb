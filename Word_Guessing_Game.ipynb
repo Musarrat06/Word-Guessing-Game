{
  "nbformat": 4,
  "nbformat_minor": 0,
  "metadata": {
    "colab": {
      "provenance": []
    },
    "kernelspec": {
      "name": "python3",
      "display_name": "Python 3"
    },
    "language_info": {
      "name": "python"
    }
  },
  "cells": [
    {
      "cell_type": "code",
      "execution_count": 4,
      "metadata": {
        "colab": {
          "base_uri": "https://localhost:8080/"
        },
        "id": "BpWthigVxlXp",
        "outputId": "397b9d18-7116-4154-8ee0-56e864d42d36"
      },
      "outputs": [
        {
          "output_type": "stream",
          "name": "stdout",
          "text": [
            "Enter your name : Musarrat\n",
            "Good Luck! Musarrat\n",
            "Guess the word  :  rainbow\n",
            "w a __\n",
            "__\n",
            "r wrong answer.\n",
            "you have  11 turns left\n",
            "Guess the word  :  water\n",
            "w a t e r Congracts....You win the game!\n"
          ]
        }
      ],
      "source": [
        "import random\n",
        "words = ['rainbow', 'computer', 'science', 'programming',\n",
        "         'python', 'mathematics', 'player', 'condition',\n",
        "         'reverse', 'water', 'board', 'geeks']\n",
        "\n",
        "\n",
        "name = input(\"Enter your name : \")\n",
        "print(\"Good Luck!\", name)\n",
        "\n",
        "\n",
        "\n",
        "Random_w = random.choice(words)\n",
        "\n",
        "\n",
        "\n",
        "turns = 12\n",
        "\n",
        "while turns > 0 :\n",
        "\n",
        "  for word in words:\n",
        "    Guess = input(\"Guess the word  :  \")\n",
        "    for char in Random_w:\n",
        "      if char in Guess:\n",
        "        print(char,end=\" \")\n",
        "      else:\n",
        "        print(\"__\")\n",
        "\n",
        "\n",
        "\n",
        "    if Guess != Random_w:\n",
        "      print(\"wrong answer.\")\n",
        "      turns -= 1\n",
        "      print(\"you have \",turns,\"turns left\")\n",
        "\n",
        "      if turns == 0:\n",
        "        print(\"You Lost the game.\")\n",
        "        print(\"The correct word is : \",Random_w)\n",
        "        break\n",
        "\n",
        "    else:\n",
        "      print(\"Congracts....You win the game!\")\n",
        "      break\n",
        "\n",
        "  break\n"
      ]
    },
    {
      "cell_type": "code",
      "source": [],
      "metadata": {
        "id": "oAeEmBuGuM2x"
      },
      "execution_count": null,
      "outputs": []
    }
  ]
}